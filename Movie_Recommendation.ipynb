{
  "nbformat": 4,
  "nbformat_minor": 0,
  "metadata": {
    "colab": {
      "provenance": [],
      "authorship_tag": "ABX9TyNbfdEu3FFFxJ/BsAfxinga",
      "include_colab_link": true
    },
    "kernelspec": {
      "name": "python3",
      "display_name": "Python 3"
    },
    "language_info": {
      "name": "python"
    }
  },
  "cells": [
    {
      "cell_type": "markdown",
      "metadata": {
        "id": "view-in-github",
        "colab_type": "text"
      },
      "source": [
        "<a href=\"https://colab.research.google.com/github/AnshKambli/Movie-Recommendation/blob/main/Movie_Recommendation.ipynb\" target=\"_parent\"><img src=\"https://colab.research.google.com/assets/colab-badge.svg\" alt=\"Open In Colab\"/></a>"
      ]
    },
    {
      "cell_type": "code",
      "execution_count": null,
      "metadata": {
        "id": "W3vdQF7Wt8t0"
      },
      "outputs": [],
      "source": [
        "import streamlit as st\n",
        "import pandas as pd\n",
        "import numpy as np\n"
      ]
    },
    {
      "cell_type": "code",
      "source": [
        "from sklearn.feature_extraction.text import TfidfVectorizer\n",
        "from sklearn.metrics.pairwise import cosine_similarity"
      ],
      "metadata": {
        "id": "wQvIvOLeuUTp"
      },
      "execution_count": null,
      "outputs": []
    },
    {
      "cell_type": "markdown",
      "source": [
        "Load Dataset **IMBD**"
      ],
      "metadata": {
        "id": "DliCgJkLudfj"
      }
    },
    {
      "cell_type": "code",
      "source": [
        "imdb_data = pd.read_csv('/content/IMBD.csv.zip')\n",
        "print(imdb_data.head())"
      ],
      "metadata": {
        "colab": {
          "base_uri": "https://localhost:8080/"
        },
        "id": "RmRvlxFVupMw",
        "outputId": "d5288524-3b5f-4330-da03-a0e9efbecc3d"
      },
      "execution_count": null,
      "outputs": [
        {
          "output_type": "stream",
          "name": "stdout",
          "text": [
            "                    title         year certificate duration  \\\n",
            "0               Cobra Kai     (2018– )       TV-14   30 min   \n",
            "1               The Crown     (2016– )       TV-MA   58 min   \n",
            "2        Better Call Saul  (2015–2022)       TV-MA   46 min   \n",
            "3           Devil in Ohio       (2022)       TV-MA  356 min   \n",
            "4  Cyberpunk: Edgerunners     (2022– )       TV-MA   24 min   \n",
            "\n",
            "                          genre  rating  \\\n",
            "0         Action, Comedy, Drama     8.5   \n",
            "1     Biography, Drama, History     8.7   \n",
            "2                  Crime, Drama     8.9   \n",
            "3        Drama, Horror, Mystery     5.9   \n",
            "4  Animation, Action, Adventure     8.6   \n",
            "\n",
            "                                         description  \\\n",
            "0  Decades after their 1984 All Valley Karate Tou...   \n",
            "1  Follows the political rivalries and romance of...   \n",
            "2  The trials and tribulations of criminal lawyer...   \n",
            "3  When a psychiatrist shelters a mysterious cult...   \n",
            "4  A Street Kid trying to survive in a technology...   \n",
            "\n",
            "                                               stars    votes  \n",
            "0  ['Ralph Macchio, ', 'William Zabka, ', 'Courtn...  177,031  \n",
            "1  ['Claire Foy, ', 'Olivia Colman, ', 'Imelda St...  199,885  \n",
            "2  ['Bob Odenkirk, ', 'Rhea Seehorn, ', 'Jonathan...  501,384  \n",
            "3  ['Emily Deschanel, ', 'Sam Jaeger, ', 'Gerardo...    9,773  \n",
            "4  ['Zach Aguilar, ', 'Kenichiro Ohashi, ', 'Emi ...   15,413  \n"
          ]
        }
      ]
    },
    {
      "cell_type": "code",
      "source": [
        "movies = imdb_data[['title', 'genre']].dropna()"
      ],
      "metadata": {
        "id": "ZvxZ0CnlvMbE"
      },
      "execution_count": null,
      "outputs": []
    },
    {
      "cell_type": "code",
      "source": [
        "print(movies.head())"
      ],
      "metadata": {
        "colab": {
          "base_uri": "https://localhost:8080/"
        },
        "id": "kO7okqZsvYCc",
        "outputId": "8759051e-59ec-4a5e-f064-bf65832dfff2"
      },
      "execution_count": null,
      "outputs": [
        {
          "output_type": "stream",
          "name": "stdout",
          "text": [
            "                    title                         genre\n",
            "0               Cobra Kai         Action, Comedy, Drama\n",
            "1               The Crown     Biography, Drama, History\n",
            "2        Better Call Saul                  Crime, Drama\n",
            "3           Devil in Ohio        Drama, Horror, Mystery\n",
            "4  Cyberpunk: Edgerunners  Animation, Action, Adventure\n"
          ]
        }
      ]
    },
    {
      "cell_type": "markdown",
      "source": [
        "# **Preprocessing**"
      ],
      "metadata": {
        "id": "ztQdXYX7wgin"
      }
    },
    {
      "cell_type": "code",
      "source": [
        "movies['genre'] = movies['genre'].str.replace(',', ' ')  # Replace commas with spaces"
      ],
      "metadata": {
        "id": "MXPY4uODwqvl"
      },
      "execution_count": null,
      "outputs": []
    },
    {
      "cell_type": "markdown",
      "source": [
        "# Vectorize **genres**"
      ],
      "metadata": {
        "id": "jBnyqBiPwygi"
      }
    },
    {
      "cell_type": "code",
      "source": [
        "tfidf = TfidfVectorizer(stop_words='english')\n",
        "tfidf_matrix = tfidf.fit_transform(movies['genre'])"
      ],
      "metadata": {
        "id": "WJUG8f4nw1uV"
      },
      "execution_count": null,
      "outputs": []
    },
    {
      "cell_type": "markdown",
      "source": [
        "# Calculate cosine **similarity**"
      ],
      "metadata": {
        "id": "byDRGk7ExEax"
      }
    },
    {
      "cell_type": "code",
      "source": [
        "cosine_sim = cosine_similarity(tfidf_matrix, tfidf_matrix)"
      ],
      "metadata": {
        "id": "0yk-f_Caw582"
      },
      "execution_count": null,
      "outputs": []
    },
    {
      "cell_type": "markdown",
      "source": [
        "# Recommendation function"
      ],
      "metadata": {
        "id": "P1DlT_yhxOC8"
      }
    },
    {
      "cell_type": "code",
      "source": [
        "def recommend_movies(movie_title, num_recommendations=5):\n",
        "    idx = movies[movies['title'] == movie_title].index[0]\n",
        "    sim_scores = list(enumerate(cosine_sim[idx]))\n",
        "    sim_scores = sorted(sim_scores, key=lambda x: x[1], reverse=True)[1:num_recommendations+1]\n",
        "    movie_indices = [i[0] for i in sim_scores]\n",
        "    return movies['title'].iloc[movie_indices]\n"
      ],
      "metadata": {
        "id": "PVa4RRDSxCzn"
      },
      "execution_count": null,
      "outputs": []
    },
    {
      "cell_type": "markdown",
      "source": [
        "# Test the **function**"
      ],
      "metadata": {
        "id": "KjyUl0Ncxefx"
      }
    },
    {
      "cell_type": "code",
      "source": [
        "print(recommend_movies('Peaky Blinders', 5))  # Replace with a movie title from your dataset\n"
      ],
      "metadata": {
        "colab": {
          "base_uri": "https://localhost:8080/"
        },
        "id": "Em6LpXoexXk_",
        "outputId": "cef46ad7-677a-456e-f299-b12cc404687a"
      },
      "execution_count": null,
      "outputs": [
        {
          "output_type": "stream",
          "name": "stdout",
          "text": [
            "10         Stranger Things\n",
            "22            Supernatural\n",
            "52             Locke & Key\n",
            "58     The Vampire Diaries\n",
            "155          Midnight Mass\n",
            "Name: title, dtype: object\n"
          ]
        }
      ]
    },
    {
      "cell_type": "code",
      "source": [],
      "metadata": {
        "id": "FUDflSSCxlDJ"
      },
      "execution_count": null,
      "outputs": []
    },
    {
      "cell_type": "code",
      "source": [],
      "metadata": {
        "id": "FHQuO2VxywC9"
      },
      "execution_count": null,
      "outputs": []
    },
    {
      "cell_type": "code",
      "source": [],
      "metadata": {
        "id": "T7jLlDgHzdT0"
      },
      "execution_count": null,
      "outputs": []
    },
    {
      "cell_type": "code",
      "source": [],
      "metadata": {
        "id": "8aovXfzLziQr"
      },
      "execution_count": null,
      "outputs": []
    },
    {
      "cell_type": "code",
      "source": [],
      "metadata": {
        "id": "Pu6PLS6ZzlMg"
      },
      "execution_count": null,
      "outputs": []
    }
  ]
}